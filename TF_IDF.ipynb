{
  "nbformat": 4,
  "nbformat_minor": 0,
  "metadata": {
    "colab": {
      "provenance": [],
      "authorship_tag": "ABX9TyPDxKB1jqMNrUlLnJwkSxkw",
      "include_colab_link": true
    },
    "kernelspec": {
      "name": "python3",
      "display_name": "Python 3"
    },
    "language_info": {
      "name": "python"
    }
  },
  "cells": [
    {
      "cell_type": "markdown",
      "metadata": {
        "id": "view-in-github",
        "colab_type": "text"
      },
      "source": [
        "<a href=\"https://colab.research.google.com/github/vasanthk77/NLP/blob/main/TF_IDF.ipynb\" target=\"_parent\"><img src=\"https://colab.research.google.com/assets/colab-badge.svg\" alt=\"Open In Colab\"/></a>"
      ]
    },
    {
      "cell_type": "code",
      "execution_count": 4,
      "metadata": {
        "colab": {
          "base_uri": "https://localhost:8080/"
        },
        "id": "lE6tmHrMNn9T",
        "outputId": "51664e82-a2d0-4380-f9d0-6866f5d80b5d"
      },
      "outputs": [
        {
          "output_type": "stream",
          "name": "stdout",
          "text": [
            "Requirement already satisfied: nltk in /usr/local/lib/python3.10/dist-packages (3.8.1)\n",
            "Requirement already satisfied: click in /usr/local/lib/python3.10/dist-packages (from nltk) (8.1.7)\n",
            "Requirement already satisfied: joblib in /usr/local/lib/python3.10/dist-packages (from nltk) (1.3.2)\n",
            "Requirement already satisfied: regex>=2021.8.3 in /usr/local/lib/python3.10/dist-packages (from nltk) (2023.6.3)\n",
            "Requirement already satisfied: tqdm in /usr/local/lib/python3.10/dist-packages (from nltk) (4.66.1)\n"
          ]
        }
      ],
      "source": [
        "!pip install nltk"
      ]
    },
    {
      "cell_type": "code",
      "source": [
        "paragraph=\"\"\"Williamson made his first-class cricket debut in December 2007.[2] He made his U-19 debut against the touring Indian U-19 team the same year and was named captain of the New Zealand U-19 team for the 2008 U-19 Cricket World Cup. He made his international debut in 2010. Williamson has represented New Zealand at the 2011, 2015 and 2019 editions of the Cricket World Cup and 2012, 2014, 2016 and 2021 editions of the ICC World Twenty20. He made his full-time captaincy debut for New Zealand in the 2016 ICC World Twenty20 in India. He captained New Zealand at the 2019 Cricket World Cup, leading the team to the final and winning the Player of the Tournament award in the process. On 31 December 2020, he reached a Test batting rating of 890, surpassing Steve Smith and Virat Kohli as the number one ranked Test batsmen in the world.[3][4] He was nominated for the Sir Garfield Sobers Award for ICC Male Cricketer of the Decade, and the award for Test cricketer of the decade. Ian Chappell and Martin Crowe have ranked Williamson among the top four or five Test cricket batsmen, along with Joe Root, Steve Smith, and Virat Kohli of the current era.[5][6][7]\"\"\""
      ],
      "metadata": {
        "id": "GXYycWv5Np_z"
      },
      "execution_count": 5,
      "outputs": []
    },
    {
      "cell_type": "code",
      "source": [
        "#1\n",
        "## converting - paragraph - sentences-words\n",
        "## applying the tokenization\n",
        "import nltk\n",
        "nltk.download('punkt')\n",
        "sentences=nltk.sent_tokenize(paragraph)\n",
        "print(sentences)"
      ],
      "metadata": {
        "colab": {
          "base_uri": "https://localhost:8080/"
        },
        "id": "V3mpxcdcNtf-",
        "outputId": "08bc68d1-2027-46e4-ff84-f497a9336e06"
      },
      "execution_count": 6,
      "outputs": [
        {
          "output_type": "stream",
          "name": "stderr",
          "text": [
            "[nltk_data] Downloading package punkt to /root/nltk_data...\n",
            "[nltk_data]   Unzipping tokenizers/punkt.zip.\n"
          ]
        },
        {
          "output_type": "stream",
          "name": "stdout",
          "text": [
            "['Williamson made his first-class cricket debut in December 2007.', '[2] He made his U-19 debut against the touring Indian U-19 team the same year and was named captain of the New Zealand U-19 team for the 2008 U-19 Cricket World Cup.', 'He made his international debut in 2010.', 'Williamson has represented New Zealand at the 2011, 2015 and 2019 editions of the Cricket World Cup and 2012, 2014, 2016 and 2021 editions of the ICC World Twenty20.', 'He made his full-time captaincy debut for New Zealand in the 2016 ICC World Twenty20 in India.', 'He captained New Zealand at the 2019 Cricket World Cup, leading the team to the final and winning the Player of the Tournament award in the process.', 'On 31 December 2020, he reached a Test batting rating of 890, surpassing Steve Smith and Virat Kohli as the number one ranked Test batsmen in the world.', '[3][4] He was nominated for the Sir Garfield Sobers Award for ICC Male Cricketer of the Decade, and the award for Test cricketer of the decade.', 'Ian Chappell and Martin Crowe have ranked Williamson among the top four or five Test cricket batsmen, along with Joe Root, Steve Smith, and Virat Kohli of the current era.', '[5][6][7]']\n"
          ]
        }
      ]
    },
    {
      "cell_type": "code",
      "source": [
        "## 2\n",
        "## before applying the stemm or lemma we need to clean the data\n",
        "## using regurlar experssion\n",
        "import re\n",
        "corpus1=[]\n",
        "for i in range(len(sentences)):\n",
        "  new=re.sub('[^a-zA-Z]','',sentences[i])\n",
        "  new1=new.lower()\n",
        "  corpus1.append(new1)"
      ],
      "metadata": {
        "id": "carb8baEODNS"
      },
      "execution_count": 7,
      "outputs": []
    },
    {
      "cell_type": "code",
      "source": [
        "corpus1\n"
      ],
      "metadata": {
        "colab": {
          "base_uri": "https://localhost:8080/"
        },
        "id": "bCe3smUJOnf_",
        "outputId": "c9a74972-abd1-4058-bfe4-ec063e145171"
      },
      "execution_count": 8,
      "outputs": [
        {
          "output_type": "execute_result",
          "data": {
            "text/plain": [
              "['williamsonmadehisfirstclasscricketdebutindecember',\n",
              " 'hemadehisudebutagainstthetouringindianuteamthesameyearandwasnamedcaptainofthenewzealanduteamfortheucricketworldcup',\n",
              " 'hemadehisinternationaldebutin',\n",
              " 'williamsonhasrepresentednewzealandattheandeditionsofthecricketworldcupandandeditionsoftheiccworldtwenty',\n",
              " 'hemadehisfulltimecaptaincydebutfornewzealandintheiccworldtwentyinindia',\n",
              " 'hecaptainednewzealandatthecricketworldcupleadingtheteamtothefinalandwinningtheplayerofthetournamentawardintheprocess',\n",
              " 'ondecemberhereachedatestbattingratingofsurpassingstevesmithandviratkohliasthenumberonerankedtestbatsmenintheworld',\n",
              " 'hewasnominatedforthesirgarfieldsobersawardforiccmalecricketerofthedecadeandtheawardfortestcricketerofthedecade',\n",
              " 'ianchappellandmartincrowehaverankedwilliamsonamongthetopfourorfivetestcricketbatsmenalongwithjoerootstevesmithandviratkohliofthecurrentera',\n",
              " '']"
            ]
          },
          "metadata": {},
          "execution_count": 8
        }
      ]
    },
    {
      "cell_type": "code",
      "source": [
        "##3\n",
        "## applying stemming for the corpus -- is used to find the base of root word\n",
        "from nltk.stem import PorterStemmer\n",
        "stemmer=PorterStemmer()\n",
        "from nltk.corpus import stopwords\n",
        "nltk.download('stopwords')\n",
        "stemmer.stem('history')\n",
        "\n"
      ],
      "metadata": {
        "colab": {
          "base_uri": "https://localhost:8080/",
          "height": 70
        },
        "id": "DotFMJnUOo7B",
        "outputId": "c9e9dbd7-ba6a-46ac-d9c9-83ed6af7b931"
      },
      "execution_count": 9,
      "outputs": [
        {
          "output_type": "stream",
          "name": "stderr",
          "text": [
            "[nltk_data] Downloading package stopwords to /root/nltk_data...\n",
            "[nltk_data]   Unzipping corpora/stopwords.zip.\n"
          ]
        },
        {
          "output_type": "execute_result",
          "data": {
            "text/plain": [
              "'histori'"
            ],
            "application/vnd.google.colaboratory.intrinsic+json": {
              "type": "string"
            }
          },
          "metadata": {},
          "execution_count": 9
        }
      ]
    },
    {
      "cell_type": "code",
      "source": [
        "## here stemming only find the root word which was not in stopwors\n",
        "for i in corpus:\n",
        "  words=nltk.sent_tokenize(i)\n",
        "  for word in words:\n",
        "    if word not in set(stopwords.words('english')):\n",
        "      print(stemmer.stem(word))"
      ],
      "metadata": {
        "colab": {
          "base_uri": "https://localhost:8080/",
          "height": 245
        },
        "id": "UEg329x0PJUB",
        "outputId": "0f630f22-3525-47e3-bcb7-76c115859ab3"
      },
      "execution_count": 10,
      "outputs": [
        {
          "output_type": "error",
          "ename": "NameError",
          "evalue": "ignored",
          "traceback": [
            "\u001b[0;31m---------------------------------------------------------------------------\u001b[0m",
            "\u001b[0;31mNameError\u001b[0m                                 Traceback (most recent call last)",
            "\u001b[0;32m<ipython-input-10-7ac74917b870>\u001b[0m in \u001b[0;36m<cell line: 2>\u001b[0;34m()\u001b[0m\n\u001b[1;32m      1\u001b[0m \u001b[0;31m## here stemming only find the root word which was not in stopwors\u001b[0m\u001b[0;34m\u001b[0m\u001b[0;34m\u001b[0m\u001b[0m\n\u001b[0;32m----> 2\u001b[0;31m \u001b[0;32mfor\u001b[0m \u001b[0mi\u001b[0m \u001b[0;32min\u001b[0m \u001b[0mcorpus\u001b[0m\u001b[0;34m:\u001b[0m\u001b[0;34m\u001b[0m\u001b[0;34m\u001b[0m\u001b[0m\n\u001b[0m\u001b[1;32m      3\u001b[0m   \u001b[0mwords\u001b[0m\u001b[0;34m=\u001b[0m\u001b[0mnltk\u001b[0m\u001b[0;34m.\u001b[0m\u001b[0msent_tokenize\u001b[0m\u001b[0;34m(\u001b[0m\u001b[0mi\u001b[0m\u001b[0;34m)\u001b[0m\u001b[0;34m\u001b[0m\u001b[0;34m\u001b[0m\u001b[0m\n\u001b[1;32m      4\u001b[0m   \u001b[0;32mfor\u001b[0m \u001b[0mword\u001b[0m \u001b[0;32min\u001b[0m \u001b[0mwords\u001b[0m\u001b[0;34m:\u001b[0m\u001b[0;34m\u001b[0m\u001b[0;34m\u001b[0m\u001b[0m\n\u001b[1;32m      5\u001b[0m     \u001b[0;32mif\u001b[0m \u001b[0mword\u001b[0m \u001b[0;32mnot\u001b[0m \u001b[0;32min\u001b[0m \u001b[0mset\u001b[0m\u001b[0;34m(\u001b[0m\u001b[0mstopwords\u001b[0m\u001b[0;34m.\u001b[0m\u001b[0mwords\u001b[0m\u001b[0;34m(\u001b[0m\u001b[0;34m'english'\u001b[0m\u001b[0;34m)\u001b[0m\u001b[0;34m)\u001b[0m\u001b[0;34m:\u001b[0m\u001b[0;34m\u001b[0m\u001b[0;34m\u001b[0m\u001b[0m\n",
            "\u001b[0;31mNameError\u001b[0m: name 'corpus' is not defined"
          ]
        }
      ]
    },
    {
      "cell_type": "code",
      "source": [
        "## 4\n",
        "## applying lemmatization -- finds the base of the root word better than stemming\n",
        "from nltk.stem import WordNetLemmatizer\n",
        "lemmatizer=WordNetLemmatizer()\n",
        "nltk.download('wordnet')\n",
        "lemmatizer.lemmatize('history')"
      ],
      "metadata": {
        "colab": {
          "base_uri": "https://localhost:8080/",
          "height": 53
        },
        "id": "lW0IllmGQJhO",
        "outputId": "3f52f654-e22d-4c9f-a74c-0ccea7f79263"
      },
      "execution_count": 11,
      "outputs": [
        {
          "output_type": "stream",
          "name": "stderr",
          "text": [
            "[nltk_data] Downloading package wordnet to /root/nltk_data...\n"
          ]
        },
        {
          "output_type": "execute_result",
          "data": {
            "text/plain": [
              "'history'"
            ],
            "application/vnd.google.colaboratory.intrinsic+json": {
              "type": "string"
            }
          },
          "metadata": {},
          "execution_count": 11
        }
      ]
    },
    {
      "cell_type": "code",
      "source": [
        "## for lemmatizer\n",
        "for i in corpus1:\n",
        "  words=nltk.sent_tokenize(i)\n",
        "  for word in words:\n",
        "    if word not in set(stopwords.words('english')):\n",
        "      print(lemmatizer.lemmatize(word))"
      ],
      "metadata": {
        "colab": {
          "base_uri": "https://localhost:8080/"
        },
        "id": "mTMlqIbCRMBJ",
        "outputId": "1b5349c0-91f7-4071-ee57-5a05244c4fad"
      },
      "execution_count": 12,
      "outputs": [
        {
          "output_type": "stream",
          "name": "stdout",
          "text": [
            "williamsonmadehisfirstclasscricketdebutindecember\n",
            "hemadehisudebutagainstthetouringindianuteamthesameyearandwasnamedcaptainofthenewzealanduteamfortheucricketworldcup\n",
            "hemadehisinternationaldebutin\n",
            "williamsonhasrepresentednewzealandattheandeditionsofthecricketworldcupandandeditionsoftheiccworldtwenty\n",
            "hemadehisfulltimecaptaincydebutfornewzealandintheiccworldtwentyinindia\n",
            "hecaptainednewzealandatthecricketworldcupleadingtheteamtothefinalandwinningtheplayerofthetournamentawardintheprocess\n",
            "ondecemberhereachedatestbattingratingofsurpassingstevesmithandviratkohliasthenumberonerankedtestbatsmenintheworld\n",
            "hewasnominatedforthesirgarfieldsobersawardforiccmalecricketerofthedecadeandtheawardfortestcricketerofthedecade\n",
            "ianchappellandmartincrowehaverankedwilliamsonamongthetopfourorfivetestcricketbatsmenalongwithjoerootstevesmithandviratkohliofthecurrentera\n"
          ]
        }
      ]
    },
    {
      "cell_type": "code",
      "source": [
        "## bag of words\n",
        "from sklearn.feature_extraction.text import CountVectorizer\n",
        "cv=CountVectorizer()"
      ],
      "metadata": {
        "id": "uG_2IxCERa39"
      },
      "execution_count": 13,
      "outputs": []
    },
    {
      "cell_type": "code",
      "source": [
        "X=cv.fit_transform(corpus1)"
      ],
      "metadata": {
        "id": "HQxAG9eRSD3v"
      },
      "execution_count": 14,
      "outputs": []
    },
    {
      "cell_type": "code",
      "source": [
        "cv.vocabulary_"
      ],
      "metadata": {
        "colab": {
          "base_uri": "https://localhost:8080/"
        },
        "id": "UUMufXsESh4u",
        "outputId": "7c926abd-cc5a-46d6-a1a8-d9300fe83024"
      },
      "execution_count": 15,
      "outputs": [
        {
          "output_type": "execute_result",
          "data": {
            "text/plain": [
              "{'williamsonmadehisfirstclasscricketdebutindecember': 8,\n",
              " 'hemadehisudebutagainstthetouringindianuteamthesameyearandwasnamedcaptainofthenewzealanduteamfortheucricketworldcup': 3,\n",
              " 'hemadehisinternationaldebutin': 2,\n",
              " 'williamsonhasrepresentednewzealandattheandeditionsofthecricketworldcupandandeditionsoftheiccworldtwenty': 7,\n",
              " 'hemadehisfulltimecaptaincydebutfornewzealandintheiccworldtwentyinindia': 1,\n",
              " 'hecaptainednewzealandatthecricketworldcupleadingtheteamtothefinalandwinningtheplayerofthetournamentawardintheprocess': 0,\n",
              " 'ondecemberhereachedatestbattingratingofsurpassingstevesmithandviratkohliasthenumberonerankedtestbatsmenintheworld': 6,\n",
              " 'hewasnominatedforthesirgarfieldsobersawardforiccmalecricketerofthedecadeandtheawardfortestcricketerofthedecade': 4,\n",
              " 'ianchappellandmartincrowehaverankedwilliamsonamongthetopfourorfivetestcricketbatsmenalongwithjoerootstevesmithandviratkohliofthecurrentera': 5}"
            ]
          },
          "metadata": {},
          "execution_count": 15
        }
      ]
    },
    {
      "cell_type": "code",
      "source": [
        "X.toarray()"
      ],
      "metadata": {
        "colab": {
          "base_uri": "https://localhost:8080/"
        },
        "id": "Y01cfoJvSmTV",
        "outputId": "8d71243b-9ce1-45b6-ba1e-726bc76acf65"
      },
      "execution_count": 16,
      "outputs": [
        {
          "output_type": "execute_result",
          "data": {
            "text/plain": [
              "array([[0, 0, 0, 0, 0, 0, 0, 0, 1],\n",
              "       [0, 0, 0, 1, 0, 0, 0, 0, 0],\n",
              "       [0, 0, 1, 0, 0, 0, 0, 0, 0],\n",
              "       [0, 0, 0, 0, 0, 0, 0, 1, 0],\n",
              "       [0, 1, 0, 0, 0, 0, 0, 0, 0],\n",
              "       [1, 0, 0, 0, 0, 0, 0, 0, 0],\n",
              "       [0, 0, 0, 0, 0, 0, 1, 0, 0],\n",
              "       [0, 0, 0, 0, 1, 0, 0, 0, 0],\n",
              "       [0, 0, 0, 0, 0, 1, 0, 0, 0],\n",
              "       [0, 0, 0, 0, 0, 0, 0, 0, 0]])"
            ]
          },
          "metadata": {},
          "execution_count": 16
        }
      ]
    },
    {
      "cell_type": "code",
      "source": [
        "corpus1[0]"
      ],
      "metadata": {
        "colab": {
          "base_uri": "https://localhost:8080/",
          "height": 35
        },
        "id": "N0oh0W7PSqdw",
        "outputId": "d357ed94-47ea-4d40-a2cc-dfffb7274f44"
      },
      "execution_count": 17,
      "outputs": [
        {
          "output_type": "execute_result",
          "data": {
            "text/plain": [
              "'williamsonmadehisfirstclasscricketdebutindecember'"
            ],
            "application/vnd.google.colaboratory.intrinsic+json": {
              "type": "string"
            }
          },
          "metadata": {},
          "execution_count": 17
        }
      ]
    },
    {
      "cell_type": "code",
      "source": [
        "## TF-IDF\n",
        "## it is better than bag of words but sparity is there and aslo out of vocabulary.. advantage is word importance captured\n",
        "## here i used max feature word which was used to find top 2 features\n",
        "from sklearn.feature_extraction.text import TfidfVectorizer\n",
        "tf=TfidfVectorizer(max_features=2)"
      ],
      "metadata": {
        "id": "TaZcRLMZVzWr"
      },
      "execution_count": 40,
      "outputs": []
    },
    {
      "cell_type": "code",
      "source": [
        "a=tf.fit_transform(corpus1)"
      ],
      "metadata": {
        "id": "KFbNm_4yzNnE"
      },
      "execution_count": 36,
      "outputs": []
    },
    {
      "cell_type": "code",
      "source": [
        "a.toarray()"
      ],
      "metadata": {
        "colab": {
          "base_uri": "https://localhost:8080/"
        },
        "id": "PKmU69drzSAg",
        "outputId": "a82594c3-5dfd-4e1e-c3ae-6f286be3d3cd"
      },
      "execution_count": 37,
      "outputs": [
        {
          "output_type": "execute_result",
          "data": {
            "text/plain": [
              "array([[0., 0.],\n",
              "       [0., 0.],\n",
              "       [0., 0.],\n",
              "       [0., 0.],\n",
              "       [0., 1.],\n",
              "       [1., 0.],\n",
              "       [0., 0.],\n",
              "       [0., 0.],\n",
              "       [0., 0.],\n",
              "       [0., 0.]])"
            ]
          },
          "metadata": {},
          "execution_count": 37
        }
      ]
    },
    {
      "cell_type": "code",
      "source": [
        "tf.vocabulary_"
      ],
      "metadata": {
        "colab": {
          "base_uri": "https://localhost:8080/"
        },
        "id": "UjauH7BUznGt",
        "outputId": "76cb6613-787f-41d1-e203-454334ba953b"
      },
      "execution_count": 38,
      "outputs": [
        {
          "output_type": "execute_result",
          "data": {
            "text/plain": [
              "{'hemadehisfulltimecaptaincydebutfornewzealandintheiccworldtwentyinindia': 1,\n",
              " 'hecaptainednewzealandatthecricketworldcupleadingtheteamtothefinalandwinningtheplayerofthetournamentawardintheprocess': 0}"
            ]
          },
          "metadata": {},
          "execution_count": 38
        }
      ]
    },
    {
      "cell_type": "code",
      "source": [],
      "metadata": {
        "id": "h3lntQJ1z6jR"
      },
      "execution_count": null,
      "outputs": []
    }
  ]
}