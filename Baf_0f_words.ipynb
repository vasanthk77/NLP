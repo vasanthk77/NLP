{
  "nbformat": 4,
  "nbformat_minor": 0,
  "metadata": {
    "colab": {
      "provenance": [],
      "authorship_tag": "ABX9TyMuTgbqp02hgTxRd7ldCZPC",
      "include_colab_link": true
    },
    "kernelspec": {
      "name": "python3",
      "display_name": "Python 3"
    },
    "language_info": {
      "name": "python"
    }
  },
  "cells": [
    {
      "cell_type": "markdown",
      "metadata": {
        "id": "view-in-github",
        "colab_type": "text"
      },
      "source": [
        "<a href=\"https://colab.research.google.com/github/vasanthk77/NLP/blob/main/Baf_0f_words.ipynb\" target=\"_parent\"><img src=\"https://colab.research.google.com/assets/colab-badge.svg\" alt=\"Open In Colab\"/></a>"
      ]
    },
    {
      "cell_type": "code",
      "execution_count": 1,
      "metadata": {
        "colab": {
          "base_uri": "https://localhost:8080/"
        },
        "id": "lE6tmHrMNn9T",
        "outputId": "72ce9098-1dd2-4176-d0b6-30d7165cd5ca"
      },
      "outputs": [
        {
          "output_type": "stream",
          "name": "stdout",
          "text": [
            "Requirement already satisfied: nltk in /usr/local/lib/python3.10/dist-packages (3.8.1)\n",
            "Requirement already satisfied: click in /usr/local/lib/python3.10/dist-packages (from nltk) (8.1.7)\n",
            "Requirement already satisfied: joblib in /usr/local/lib/python3.10/dist-packages (from nltk) (1.3.2)\n",
            "Requirement already satisfied: regex>=2021.8.3 in /usr/local/lib/python3.10/dist-packages (from nltk) (2023.6.3)\n",
            "Requirement already satisfied: tqdm in /usr/local/lib/python3.10/dist-packages (from nltk) (4.66.1)\n"
          ]
        }
      ],
      "source": [
        "!pip install nltk"
      ]
    },
    {
      "cell_type": "code",
      "source": [
        "paragraph=\"\"\"Williamson made his first-class cricket debut in December 2007.[2] He made his U-19 debut against the touring Indian U-19 team the same year and was named captain of the New Zealand U-19 team for the 2008 U-19 Cricket World Cup. He made his international debut in 2010. Williamson has represented New Zealand at the 2011, 2015 and 2019 editions of the Cricket World Cup and 2012, 2014, 2016 and 2021 editions of the ICC World Twenty20. He made his full-time captaincy debut for New Zealand in the 2016 ICC World Twenty20 in India. He captained New Zealand at the 2019 Cricket World Cup, leading the team to the final and winning the Player of the Tournament award in the process. On 31 December 2020, he reached a Test batting rating of 890, surpassing Steve Smith and Virat Kohli as the number one ranked Test batsmen in the world.[3][4] He was nominated for the Sir Garfield Sobers Award for ICC Male Cricketer of the Decade, and the award for Test cricketer of the decade. Ian Chappell and Martin Crowe have ranked Williamson among the top four or five Test cricket batsmen, along with Joe Root, Steve Smith, and Virat Kohli of the current era.[5][6][7]\"\"\""
      ],
      "metadata": {
        "id": "GXYycWv5Np_z"
      },
      "execution_count": 2,
      "outputs": []
    },
    {
      "cell_type": "code",
      "source": [
        "#1\n",
        "## converting - paragraph - sentences-words\n",
        "## applying the tokenization\n",
        "import nltk\n",
        "nltk.download('punkt')\n",
        "sentences=nltk.sent_tokenize(paragraph)\n",
        "print(sentences)"
      ],
      "metadata": {
        "colab": {
          "base_uri": "https://localhost:8080/"
        },
        "id": "V3mpxcdcNtf-",
        "outputId": "c368209a-1e81-4d3d-e319-f9b37c042d26"
      },
      "execution_count": 4,
      "outputs": [
        {
          "output_type": "stream",
          "name": "stderr",
          "text": [
            "[nltk_data] Downloading package punkt to /root/nltk_data...\n",
            "[nltk_data]   Unzipping tokenizers/punkt.zip.\n"
          ]
        },
        {
          "output_type": "stream",
          "name": "stdout",
          "text": [
            "['Williamson made his first-class cricket debut in December 2007.', '[2] He made his U-19 debut against the touring Indian U-19 team the same year and was named captain of the New Zealand U-19 team for the 2008 U-19 Cricket World Cup.', 'He made his international debut in 2010.', 'Williamson has represented New Zealand at the 2011, 2015 and 2019 editions of the Cricket World Cup and 2012, 2014, 2016 and 2021 editions of the ICC World Twenty20.', 'He made his full-time captaincy debut for New Zealand in the 2016 ICC World Twenty20 in India.', 'He captained New Zealand at the 2019 Cricket World Cup, leading the team to the final and winning the Player of the Tournament award in the process.', 'On 31 December 2020, he reached a Test batting rating of 890, surpassing Steve Smith and Virat Kohli as the number one ranked Test batsmen in the world.', '[3][4] He was nominated for the Sir Garfield Sobers Award for ICC Male Cricketer of the Decade, and the award for Test cricketer of the decade.', 'Ian Chappell and Martin Crowe have ranked Williamson among the top four or five Test cricket batsmen, along with Joe Root, Steve Smith, and Virat Kohli of the current era.', '[5][6][7]']\n"
          ]
        }
      ]
    },
    {
      "cell_type": "code",
      "source": [
        "## 2\n",
        "## before applying the stemm or lemma we need to clean the data\n",
        "## using regurlar experssion\n",
        "import re\n",
        "corpus1=[]\n",
        "for i in range(len(sentences)):\n",
        "  new=re.sub('[^a-zA-Z]','',sentences[i])\n",
        "  new1=new.lower()\n",
        "  corpus1.append(new1)"
      ],
      "metadata": {
        "id": "carb8baEODNS"
      },
      "execution_count": 28,
      "outputs": []
    },
    {
      "cell_type": "code",
      "source": [
        "corpus1\n"
      ],
      "metadata": {
        "colab": {
          "base_uri": "https://localhost:8080/"
        },
        "id": "bCe3smUJOnf_",
        "outputId": "c5189eeb-22b9-4c37-bf77-ae2e281a6b5b"
      },
      "execution_count": 29,
      "outputs": [
        {
          "output_type": "execute_result",
          "data": {
            "text/plain": [
              "['williamsonmadehisfirstclasscricketdebutindecember',\n",
              " 'hemadehisudebutagainstthetouringindianuteamthesameyearandwasnamedcaptainofthenewzealanduteamfortheucricketworldcup',\n",
              " 'hemadehisinternationaldebutin',\n",
              " 'williamsonhasrepresentednewzealandattheandeditionsofthecricketworldcupandandeditionsoftheiccworldtwenty',\n",
              " 'hemadehisfulltimecaptaincydebutfornewzealandintheiccworldtwentyinindia',\n",
              " 'hecaptainednewzealandatthecricketworldcupleadingtheteamtothefinalandwinningtheplayerofthetournamentawardintheprocess',\n",
              " 'ondecemberhereachedatestbattingratingofsurpassingstevesmithandviratkohliasthenumberonerankedtestbatsmenintheworld',\n",
              " 'hewasnominatedforthesirgarfieldsobersawardforiccmalecricketerofthedecadeandtheawardfortestcricketerofthedecade',\n",
              " 'ianchappellandmartincrowehaverankedwilliamsonamongthetopfourorfivetestcricketbatsmenalongwithjoerootstevesmithandviratkohliofthecurrentera',\n",
              " '']"
            ]
          },
          "metadata": {},
          "execution_count": 29
        }
      ]
    },
    {
      "cell_type": "code",
      "source": [
        "##3\n",
        "## applying stemming for the corpus -- is used to find the base of root word\n",
        "from nltk.stem import PorterStemmer\n",
        "stemmer=PorterStemmer()\n",
        "from nltk.corpus import stopwords\n",
        "nltk.download('stopwords')\n",
        "stemmer.stem('history')\n",
        "\n"
      ],
      "metadata": {
        "colab": {
          "base_uri": "https://localhost:8080/",
          "height": 70
        },
        "id": "DotFMJnUOo7B",
        "outputId": "a8a2e2ae-1ff2-47b3-b753-39a81d5eb392"
      },
      "execution_count": 21,
      "outputs": [
        {
          "output_type": "stream",
          "name": "stderr",
          "text": [
            "[nltk_data] Downloading package stopwords to /root/nltk_data...\n",
            "[nltk_data]   Package stopwords is already up-to-date!\n"
          ]
        },
        {
          "output_type": "execute_result",
          "data": {
            "text/plain": [
              "'histori'"
            ],
            "application/vnd.google.colaboratory.intrinsic+json": {
              "type": "string"
            }
          },
          "metadata": {},
          "execution_count": 21
        }
      ]
    },
    {
      "cell_type": "code",
      "source": [
        "## here stemming only find the root word which was not in stopwors\n",
        "for i in corpus:\n",
        "  words=nltk.sent_tokenize(i)\n",
        "  for word in words:\n",
        "    if word not in set(stopwords.words('english')):\n",
        "      print(stemmer.stem(word))"
      ],
      "metadata": {
        "colab": {
          "base_uri": "https://localhost:8080/"
        },
        "id": "UEg329x0PJUB",
        "outputId": "b830dd7f-db5c-46a1-c756-58b0245ed783"
      },
      "execution_count": 15,
      "outputs": [
        {
          "output_type": "stream",
          "name": "stdout",
          "text": [
            "williamsonmadehisfirstclasscricketdebutindecemb\n",
            "hemadehisudebutagainstthetouringindianuteamthesameyearandwasnamedcaptainofthenewzealanduteamfortheucricketworldcup\n",
            "hemadehisinternationaldebutin\n",
            "williamsonhasrepresentednewzealandattheandeditionsofthecricketworldcupandandeditionsoftheiccworldtwenti\n",
            "hemadehisfulltimecaptaincydebutfornewzealandintheiccworldtwentyinindia\n",
            "hecaptainednewzealandatthecricketworldcupleadingtheteamtothefinalandwinningtheplayerofthetournamentawardintheprocess\n",
            "ondecemberhereachedatestbattingratingofsurpassingstevesmithandviratkohliasthenumberonerankedtestbatsmenintheworld\n",
            "hewasnominatedforthesirgarfieldsobersawardforiccmalecricketerofthedecadeandtheawardfortestcricketerofthedecad\n",
            "ianchappellandmartincrowehaverankedwilliamsonamongthetopfourorfivetestcricketbatsmenalongwithjoerootstevesmithandviratkohliofthecurrentera\n"
          ]
        }
      ]
    },
    {
      "cell_type": "code",
      "source": [
        "## 4\n",
        "## applying lemmatization -- finds the base of the root word better than stemming\n",
        "from nltk.stem import WordNetLemmatizer\n",
        "lemmatizer=WordNetLemmatizer()\n",
        "nltk.download('wordnet')\n",
        "lemmatizer.lemmatize('history')"
      ],
      "metadata": {
        "colab": {
          "base_uri": "https://localhost:8080/",
          "height": 70
        },
        "id": "lW0IllmGQJhO",
        "outputId": "edf97f45-b3cb-44bd-cbb9-306449f74653"
      },
      "execution_count": 20,
      "outputs": [
        {
          "output_type": "stream",
          "name": "stderr",
          "text": [
            "[nltk_data] Downloading package wordnet to /root/nltk_data...\n",
            "[nltk_data]   Package wordnet is already up-to-date!\n"
          ]
        },
        {
          "output_type": "execute_result",
          "data": {
            "text/plain": [
              "'history'"
            ],
            "application/vnd.google.colaboratory.intrinsic+json": {
              "type": "string"
            }
          },
          "metadata": {},
          "execution_count": 20
        }
      ]
    },
    {
      "cell_type": "code",
      "source": [
        "## for lemmatizer\n",
        "for i in corpus1:\n",
        "  words=nltk.sent_tokenize(i)\n",
        "  for word in words:\n",
        "    if word not in set(stopwords.words('english')):\n",
        "      print(lemmatizer.lemmatize(word))"
      ],
      "metadata": {
        "colab": {
          "base_uri": "https://localhost:8080/"
        },
        "id": "mTMlqIbCRMBJ",
        "outputId": "3c951132-2da0-4780-a7a9-d12de5fe63d0"
      },
      "execution_count": 30,
      "outputs": [
        {
          "output_type": "stream",
          "name": "stdout",
          "text": [
            "williamsonmadehisfirstclasscricketdebutindecember\n",
            "hemadehisudebutagainstthetouringindianuteamthesameyearandwasnamedcaptainofthenewzealanduteamfortheucricketworldcup\n",
            "hemadehisinternationaldebutin\n",
            "williamsonhasrepresentednewzealandattheandeditionsofthecricketworldcupandandeditionsoftheiccworldtwenty\n",
            "hemadehisfulltimecaptaincydebutfornewzealandintheiccworldtwentyinindia\n",
            "hecaptainednewzealandatthecricketworldcupleadingtheteamtothefinalandwinningtheplayerofthetournamentawardintheprocess\n",
            "ondecemberhereachedatestbattingratingofsurpassingstevesmithandviratkohliasthenumberonerankedtestbatsmenintheworld\n",
            "hewasnominatedforthesirgarfieldsobersawardforiccmalecricketerofthedecadeandtheawardfortestcricketerofthedecade\n",
            "ianchappellandmartincrowehaverankedwilliamsonamongthetopfourorfivetestcricketbatsmenalongwithjoerootstevesmithandviratkohliofthecurrentera\n"
          ]
        }
      ]
    },
    {
      "cell_type": "code",
      "source": [
        "## bag of words\n",
        "from sklearn.feature_extraction.text import CountVectorizer\n",
        "cv=CountVectorizer()"
      ],
      "metadata": {
        "id": "uG_2IxCERa39"
      },
      "execution_count": 22,
      "outputs": []
    },
    {
      "cell_type": "code",
      "source": [
        "X=cv.fit_transform(corpus1)"
      ],
      "metadata": {
        "id": "HQxAG9eRSD3v"
      },
      "execution_count": 31,
      "outputs": []
    },
    {
      "cell_type": "code",
      "source": [
        "cv.vocabulary_"
      ],
      "metadata": {
        "colab": {
          "base_uri": "https://localhost:8080/"
        },
        "id": "UUMufXsESh4u",
        "outputId": "20594e68-5d12-4f41-a552-0ba09f85dbfb"
      },
      "execution_count": 32,
      "outputs": [
        {
          "output_type": "execute_result",
          "data": {
            "text/plain": [
              "{'williamsonmadehisfirstclasscricketdebutindecember': 8,\n",
              " 'hemadehisudebutagainstthetouringindianuteamthesameyearandwasnamedcaptainofthenewzealanduteamfortheucricketworldcup': 3,\n",
              " 'hemadehisinternationaldebutin': 2,\n",
              " 'williamsonhasrepresentednewzealandattheandeditionsofthecricketworldcupandandeditionsoftheiccworldtwenty': 7,\n",
              " 'hemadehisfulltimecaptaincydebutfornewzealandintheiccworldtwentyinindia': 1,\n",
              " 'hecaptainednewzealandatthecricketworldcupleadingtheteamtothefinalandwinningtheplayerofthetournamentawardintheprocess': 0,\n",
              " 'ondecemberhereachedatestbattingratingofsurpassingstevesmithandviratkohliasthenumberonerankedtestbatsmenintheworld': 6,\n",
              " 'hewasnominatedforthesirgarfieldsobersawardforiccmalecricketerofthedecadeandtheawardfortestcricketerofthedecade': 4,\n",
              " 'ianchappellandmartincrowehaverankedwilliamsonamongthetopfourorfivetestcricketbatsmenalongwithjoerootstevesmithandviratkohliofthecurrentera': 5}"
            ]
          },
          "metadata": {},
          "execution_count": 32
        }
      ]
    },
    {
      "cell_type": "code",
      "source": [
        "X.toarray()"
      ],
      "metadata": {
        "colab": {
          "base_uri": "https://localhost:8080/"
        },
        "id": "Y01cfoJvSmTV",
        "outputId": "f17dd432-7f67-4887-edca-d6297d93f284"
      },
      "execution_count": 35,
      "outputs": [
        {
          "output_type": "execute_result",
          "data": {
            "text/plain": [
              "array([[0, 0, 0, 0, 0, 0, 0, 0, 1],\n",
              "       [0, 0, 0, 1, 0, 0, 0, 0, 0],\n",
              "       [0, 0, 1, 0, 0, 0, 0, 0, 0],\n",
              "       [0, 0, 0, 0, 0, 0, 0, 1, 0],\n",
              "       [0, 1, 0, 0, 0, 0, 0, 0, 0],\n",
              "       [1, 0, 0, 0, 0, 0, 0, 0, 0],\n",
              "       [0, 0, 0, 0, 0, 0, 1, 0, 0],\n",
              "       [0, 0, 0, 0, 1, 0, 0, 0, 0],\n",
              "       [0, 0, 0, 0, 0, 1, 0, 0, 0],\n",
              "       [0, 0, 0, 0, 0, 0, 0, 0, 0]])"
            ]
          },
          "metadata": {},
          "execution_count": 35
        }
      ]
    },
    {
      "cell_type": "code",
      "source": [
        "corpus1[0]"
      ],
      "metadata": {
        "colab": {
          "base_uri": "https://localhost:8080/",
          "height": 35
        },
        "id": "N0oh0W7PSqdw",
        "outputId": "f0e3f864-960c-46ed-9c51-d4e69f5d7f02"
      },
      "execution_count": 34,
      "outputs": [
        {
          "output_type": "execute_result",
          "data": {
            "text/plain": [
              "'williamsonmadehisfirstclasscricketdebutindecember'"
            ],
            "application/vnd.google.colaboratory.intrinsic+json": {
              "type": "string"
            }
          },
          "metadata": {},
          "execution_count": 34
        }
      ]
    },
    {
      "cell_type": "code",
      "source": [],
      "metadata": {
        "id": "TaZcRLMZVzWr"
      },
      "execution_count": null,
      "outputs": []
    }
  ]
}